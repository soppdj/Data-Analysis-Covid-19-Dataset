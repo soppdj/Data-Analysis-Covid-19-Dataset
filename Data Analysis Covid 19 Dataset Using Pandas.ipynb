{
 "cells": [
  {
   "cell_type": "markdown",
   "id": "e1578f24",
   "metadata": {},
   "source": [
    "# Data Analysis Covid 19 Dataset Using Pandas"
   ]
  },
  {
   "cell_type": "markdown",
   "id": "9a09bae7",
   "metadata": {},
   "source": [
    "    Title     : Data Analysis Covid 19 Dataset Using Pandas  \n",
    "    Author    : Sopianto Djahar\n",
    "    Email     : idnsopianto@gmail.com\n",
    "    Linkedin  : in/sopiantodjahar\n",
    "    Github    : github.com/soppdj\n",
    "    Credit    : Thanks for udemy.com/user/saima-aziz/ "
   ]
  },
  {
   "cell_type": "markdown",
   "id": "f6579738",
   "metadata": {},
   "source": [
    "## Analysis Purpose \n",
    "\n",
    "* Q1. To show the number of confirmed, deaths and recovered cases in each region.\n",
    "* Q2. In which region maximum number of confirmed ases were recorded?\n",
    "* Q3. In which region minimum deaths were recorded?\n",
    "* Q4. How many confirmed, death and cases were reported in Indonesia till April 29, 2020?\n",
    "* Q5. To remove all the records where confirmed cases are less than 1000."
   ]
  },
  {
   "cell_type": "markdown",
   "id": "a9bcbd14",
   "metadata": {},
   "source": [
    "## Library"
   ]
  },
  {
   "cell_type": "code",
   "execution_count": 222,
   "id": "1b8f93cb",
   "metadata": {},
   "outputs": [],
   "source": [
    "import pandas as pd"
   ]
  },
  {
   "cell_type": "markdown",
   "id": "13d245ed",
   "metadata": {},
   "source": [
    "## Data Wrangling"
   ]
  },
  {
   "cell_type": "code",
   "execution_count": 223,
   "id": "aa4f42e0",
   "metadata": {},
   "outputs": [],
   "source": [
    "# Loading dataset\n",
    "file_path = \"covid_19_data.csv\"\n",
    "covid_19 = pd.read_csv(file_path)"
   ]
  },
  {
   "cell_type": "code",
   "execution_count": 224,
   "id": "c6bc505b",
   "metadata": {},
   "outputs": [
    {
     "name": "stdout",
     "output_type": "stream",
     "text": [
      "        Date State       Region  Confirmed  Deaths  Recovered\n",
      "0  4/29/2020   NaN  Afghanistan       1939      60        252\n",
      "1  4/29/2020   NaN      Albania        766      30        455\n",
      "2  4/29/2020   NaN      Algeria       3848     444       1702\n",
      "3  4/29/2020   NaN      Andorra        743      42        423\n",
      "4  4/29/2020   NaN       Angola         27       2          7\n"
     ]
    }
   ],
   "source": [
    "print(covid_19.head())"
   ]
  },
  {
   "cell_type": "code",
   "execution_count": 225,
   "id": "9fd8f236",
   "metadata": {},
   "outputs": [
    {
     "name": "stdout",
     "output_type": "stream",
     "text": [
      "<class 'pandas.core.frame.DataFrame'>\n",
      "RangeIndex: 321 entries, 0 to 320\n",
      "Data columns (total 6 columns):\n",
      " #   Column     Non-Null Count  Dtype \n",
      "---  ------     --------------  ----- \n",
      " 0   Date       321 non-null    object\n",
      " 1   State      140 non-null    object\n",
      " 2   Region     321 non-null    object\n",
      " 3   Confirmed  321 non-null    int64 \n",
      " 4   Deaths     321 non-null    int64 \n",
      " 5   Recovered  321 non-null    int64 \n",
      "dtypes: int64(3), object(3)\n",
      "memory usage: 15.2+ KB\n",
      "None\n"
     ]
    }
   ],
   "source": [
    "print(covid_19.info())"
   ]
  },
  {
   "cell_type": "code",
   "execution_count": 226,
   "id": "eab7c734",
   "metadata": {},
   "outputs": [
    {
     "name": "stdout",
     "output_type": "stream",
     "text": [
      "           Confirmed        Deaths      Recovered\n",
      "count     321.000000    321.000000     321.000000\n",
      "mean     9949.800623    709.152648    3030.277259\n",
      "std     31923.853086   3236.162817   14364.870365\n",
      "min         0.000000      0.000000       0.000000\n",
      "25%       104.000000      2.000000       2.000000\n",
      "50%       653.000000     12.000000      73.000000\n",
      "75%      4655.000000    144.000000     587.000000\n",
      "max    299691.000000  27682.000000  132929.000000\n"
     ]
    }
   ],
   "source": [
    "print(covid_19.describe())"
   ]
  },
  {
   "cell_type": "code",
   "execution_count": 227,
   "id": "ea2327e6",
   "metadata": {},
   "outputs": [
    {
     "name": "stdout",
     "output_type": "stream",
     "text": [
      "(321, 6)\n"
     ]
    }
   ],
   "source": [
    "print(covid_19.shape)"
   ]
  },
  {
   "cell_type": "code",
   "execution_count": 228,
   "id": "4716effd",
   "metadata": {},
   "outputs": [
    {
     "name": "stdout",
     "output_type": "stream",
     "text": [
      "Date         321\n",
      "State        140\n",
      "Region       321\n",
      "Confirmed    321\n",
      "Deaths       321\n",
      "Recovered    321\n",
      "dtype: int64\n"
     ]
    }
   ],
   "source": [
    "# Checking missing value\n",
    "print(covid_19.count())"
   ]
  },
  {
   "cell_type": "code",
   "execution_count": 229,
   "id": "68622a61",
   "metadata": {},
   "outputs": [
    {
     "name": "stdout",
     "output_type": "stream",
     "text": [
      "      Date  State  Region  Confirmed  Deaths  Recovered\n",
      "0    False   True   False      False   False      False\n",
      "1    False   True   False      False   False      False\n",
      "2    False   True   False      False   False      False\n",
      "3    False   True   False      False   False      False\n",
      "4    False   True   False      False   False      False\n",
      "..     ...    ...     ...        ...     ...        ...\n",
      "316  False  False   False      False   False      False\n",
      "317  False  False   False      False   False      False\n",
      "318  False  False   False      False   False      False\n",
      "319  False  False   False      False   False      False\n",
      "320  False  False   False      False   False      False\n",
      "\n",
      "[321 rows x 6 columns]\n"
     ]
    }
   ],
   "source": [
    "# Checking boolean result\n",
    "print(covid_19.isnull())"
   ]
  },
  {
   "cell_type": "code",
   "execution_count": 230,
   "id": "b6815566",
   "metadata": {},
   "outputs": [
    {
     "name": "stdout",
     "output_type": "stream",
     "text": [
      "Date           0\n",
      "State        181\n",
      "Region         0\n",
      "Confirmed      0\n",
      "Deaths         0\n",
      "Recovered      0\n",
      "dtype: int64\n"
     ]
    }
   ],
   "source": [
    "# Checking total value\n",
    "print(covid_19.isnull().sum())"
   ]
  },
  {
   "cell_type": "code",
   "execution_count": 231,
   "id": "53985fcf",
   "metadata": {},
   "outputs": [
    {
     "name": "stdout",
     "output_type": "stream",
     "text": [
      "0\n"
     ]
    }
   ],
   "source": [
    "# Checking duplicated value\n",
    "print(covid_19.duplicated().sum())"
   ]
  },
  {
   "cell_type": "markdown",
   "id": "03466e82",
   "metadata": {},
   "source": [
    "## Exploratory Data Analysis (EDA)"
   ]
  },
  {
   "cell_type": "code",
   "execution_count": 232,
   "id": "fb5e698d",
   "metadata": {},
   "outputs": [],
   "source": [
    "# Loading dataset\n",
    "file_path = \"covid_19_data.csv\"\n",
    "covid_19 = pd.read_csv(file_path)"
   ]
  },
  {
   "cell_type": "code",
   "execution_count": 233,
   "id": "4a91cf0e",
   "metadata": {},
   "outputs": [
    {
     "name": "stdout",
     "output_type": "stream",
     "text": [
      "        Date State       Region  Confirmed  Deaths  Recovered\n",
      "0  4/29/2020   NaN  Afghanistan       1939      60        252\n",
      "1  4/29/2020   NaN      Albania        766      30        455\n",
      "2  4/29/2020   NaN      Algeria       3848     444       1702\n",
      "3  4/29/2020   NaN      Andorra        743      42        423\n",
      "4  4/29/2020   NaN       Angola         27       2          7\n"
     ]
    }
   ],
   "source": [
    "print(covid_19.head())"
   ]
  },
  {
   "cell_type": "markdown",
   "id": "b693be78",
   "metadata": {},
   "source": [
    "### Q1. show the number of confirmed, deaths and recovered cases in each region. Each using group by function! "
   ]
  },
  {
   "cell_type": "code",
   "execution_count": 234,
   "id": "e61415cd",
   "metadata": {},
   "outputs": [
    {
     "data": {
      "text/html": [
       "<div>\n",
       "<style scoped>\n",
       "    .dataframe tbody tr th:only-of-type {\n",
       "        vertical-align: middle;\n",
       "    }\n",
       "\n",
       "    .dataframe tbody tr th {\n",
       "        vertical-align: top;\n",
       "    }\n",
       "\n",
       "    .dataframe thead th {\n",
       "        text-align: right;\n",
       "    }\n",
       "</style>\n",
       "<table border=\"1\" class=\"dataframe\">\n",
       "  <thead>\n",
       "    <tr style=\"text-align: right;\">\n",
       "      <th></th>\n",
       "      <th>Date</th>\n",
       "      <th>State</th>\n",
       "      <th>Confirmed</th>\n",
       "      <th>Deaths</th>\n",
       "      <th>Recovered</th>\n",
       "    </tr>\n",
       "    <tr>\n",
       "      <th>Region</th>\n",
       "      <th></th>\n",
       "      <th></th>\n",
       "      <th></th>\n",
       "      <th></th>\n",
       "      <th></th>\n",
       "    </tr>\n",
       "  </thead>\n",
       "  <tbody>\n",
       "    <tr>\n",
       "      <th>Afghanistan</th>\n",
       "      <td>4/29/2020</td>\n",
       "      <td>0</td>\n",
       "      <td>1939</td>\n",
       "      <td>60</td>\n",
       "      <td>252</td>\n",
       "    </tr>\n",
       "    <tr>\n",
       "      <th>Albania</th>\n",
       "      <td>4/29/2020</td>\n",
       "      <td>0</td>\n",
       "      <td>766</td>\n",
       "      <td>30</td>\n",
       "      <td>455</td>\n",
       "    </tr>\n",
       "    <tr>\n",
       "      <th>Algeria</th>\n",
       "      <td>4/29/2020</td>\n",
       "      <td>0</td>\n",
       "      <td>3848</td>\n",
       "      <td>444</td>\n",
       "      <td>1702</td>\n",
       "    </tr>\n",
       "    <tr>\n",
       "      <th>Andorra</th>\n",
       "      <td>4/29/2020</td>\n",
       "      <td>0</td>\n",
       "      <td>743</td>\n",
       "      <td>42</td>\n",
       "      <td>423</td>\n",
       "    </tr>\n",
       "    <tr>\n",
       "      <th>Angola</th>\n",
       "      <td>4/29/2020</td>\n",
       "      <td>0</td>\n",
       "      <td>27</td>\n",
       "      <td>2</td>\n",
       "      <td>7</td>\n",
       "    </tr>\n",
       "  </tbody>\n",
       "</table>\n",
       "</div>"
      ],
      "text/plain": [
       "                  Date State  Confirmed  Deaths  Recovered\n",
       "Region                                                    \n",
       "Afghanistan  4/29/2020     0       1939      60        252\n",
       "Albania      4/29/2020     0        766      30        455\n",
       "Algeria      4/29/2020     0       3848     444       1702\n",
       "Andorra      4/29/2020     0        743      42        423\n",
       "Angola       4/29/2020     0         27       2          7"
      ]
     },
     "execution_count": 234,
     "metadata": {},
     "output_type": "execute_result"
    }
   ],
   "source": [
    "# Each, using groupby fuction\n",
    "covid_19.groupby('Region').sum().head(5)"
   ]
  },
  {
   "cell_type": "code",
   "execution_count": 235,
   "id": "cc57f8bf",
   "metadata": {},
   "outputs": [
    {
     "name": "stdout",
     "output_type": "stream",
     "text": [
      "Region\n",
      "Afghanistan             1939\n",
      "Albania                  766\n",
      "Algeria                 3848\n",
      "Andorra                  743\n",
      "Angola                    27\n",
      "Antigua and Barbuda       24\n",
      "Argentina               4285\n",
      "Armenia                 1932\n",
      "Australia               6752\n",
      "Austria                15402\n",
      "Name: Confirmed, dtype: int64\n"
     ]
    }
   ],
   "source": [
    "# Showing only 'confirmed' cases alphabetically\n",
    "print(covid_19.groupby('Region')['Confirmed'].sum().head(10))"
   ]
  },
  {
   "cell_type": "code",
   "execution_count": 236,
   "id": "a7686a59",
   "metadata": {},
   "outputs": [
    {
     "data": {
      "text/html": [
       "<div>\n",
       "<style scoped>\n",
       "    .dataframe tbody tr th:only-of-type {\n",
       "        vertical-align: middle;\n",
       "    }\n",
       "\n",
       "    .dataframe tbody tr th {\n",
       "        vertical-align: top;\n",
       "    }\n",
       "\n",
       "    .dataframe thead th {\n",
       "        text-align: right;\n",
       "    }\n",
       "</style>\n",
       "<table border=\"1\" class=\"dataframe\">\n",
       "  <thead>\n",
       "    <tr style=\"text-align: right;\">\n",
       "      <th></th>\n",
       "      <th>Confirmed</th>\n",
       "      <th>Recovered</th>\n",
       "    </tr>\n",
       "    <tr>\n",
       "      <th>Region</th>\n",
       "      <th></th>\n",
       "      <th></th>\n",
       "    </tr>\n",
       "  </thead>\n",
       "  <tbody>\n",
       "    <tr>\n",
       "      <th>Afghanistan</th>\n",
       "      <td>1939</td>\n",
       "      <td>252</td>\n",
       "    </tr>\n",
       "    <tr>\n",
       "      <th>Albania</th>\n",
       "      <td>766</td>\n",
       "      <td>455</td>\n",
       "    </tr>\n",
       "    <tr>\n",
       "      <th>Algeria</th>\n",
       "      <td>3848</td>\n",
       "      <td>1702</td>\n",
       "    </tr>\n",
       "    <tr>\n",
       "      <th>Andorra</th>\n",
       "      <td>743</td>\n",
       "      <td>423</td>\n",
       "    </tr>\n",
       "    <tr>\n",
       "      <th>Angola</th>\n",
       "      <td>27</td>\n",
       "      <td>7</td>\n",
       "    </tr>\n",
       "    <tr>\n",
       "      <th>Antigua and Barbuda</th>\n",
       "      <td>24</td>\n",
       "      <td>11</td>\n",
       "    </tr>\n",
       "    <tr>\n",
       "      <th>Argentina</th>\n",
       "      <td>4285</td>\n",
       "      <td>1192</td>\n",
       "    </tr>\n",
       "    <tr>\n",
       "      <th>Armenia</th>\n",
       "      <td>1932</td>\n",
       "      <td>900</td>\n",
       "    </tr>\n",
       "    <tr>\n",
       "      <th>Australia</th>\n",
       "      <td>6752</td>\n",
       "      <td>5715</td>\n",
       "    </tr>\n",
       "    <tr>\n",
       "      <th>Austria</th>\n",
       "      <td>15402</td>\n",
       "      <td>12779</td>\n",
       "    </tr>\n",
       "  </tbody>\n",
       "</table>\n",
       "</div>"
      ],
      "text/plain": [
       "                     Confirmed  Recovered\n",
       "Region                                   \n",
       "Afghanistan               1939        252\n",
       "Albania                    766        455\n",
       "Algeria                   3848       1702\n",
       "Andorra                    743        423\n",
       "Angola                      27          7\n",
       "Antigua and Barbuda         24         11\n",
       "Argentina                 4285       1192\n",
       "Armenia                   1932        900\n",
       "Australia                 6752       5715\n",
       "Austria                  15402      12779"
      ]
     },
     "execution_count": 236,
     "metadata": {},
     "output_type": "execute_result"
    }
   ],
   "source": [
    "# Showing 'confirmed' and 'deaths' cases alphabetically\n",
    "covid_19.groupby('Region')[['Confirmed','Recovered']].sum().head(10)"
   ]
  },
  {
   "cell_type": "markdown",
   "id": "802342a5",
   "metadata": {},
   "source": [
    "### Q2. In which region maximum number of confirmed ases were recorded?"
   ]
  },
  {
   "cell_type": "code",
   "execution_count": 237,
   "id": "75340ffd",
   "metadata": {},
   "outputs": [
    {
     "name": "stdout",
     "output_type": "stream",
     "text": [
      "Region\n",
      "US                1039909\n",
      "Spain              236899\n",
      "Italy              203591\n",
      "France             166543\n",
      "UK                 166441\n",
      "Germany            161539\n",
      "Turkey             117589\n",
      "Russia              99399\n",
      "Iran                93657\n",
      "Mainland China      82862\n",
      "Brazil              79685\n",
      "Canada              52865\n",
      "Belgium             47859\n",
      "Netherlands         38998\n",
      "Peru                33931\n",
      "India               33062\n",
      "Switzerland         29407\n",
      "Ecuador             24675\n",
      "Portugal            24505\n",
      "Saudi Arabia        21402\n",
      "Name: Confirmed, dtype: int64\n"
     ]
    }
   ],
   "source": [
    "print(covid_19.groupby('Region')['Confirmed'].sum().sort_values(ascending=False).head(20))"
   ]
  },
  {
   "cell_type": "markdown",
   "id": "eccc994e",
   "metadata": {},
   "source": [
    "### Q3. In which region minimum deaths were recorded?"
   ]
  },
  {
   "cell_type": "code",
   "execution_count": 238,
   "id": "e106eb92",
   "metadata": {},
   "outputs": [
    {
     "name": "stdout",
     "output_type": "stream",
     "text": [
      "Region\n",
      "Laos                        0\n",
      "Mongolia                    0\n",
      "Mozambique                  0\n",
      "Cambodia                    0\n",
      "Fiji                        0\n",
      "Namibia                     0\n",
      "Nepal                       0\n",
      "Madagascar                  0\n",
      "Macau                       0\n",
      "Papua New Guinea            0\n",
      "Rwanda                      0\n",
      "Saint Kitts and Nevis       0\n",
      "Bhutan                      0\n",
      "Dominica                    0\n",
      "Central African Republic    0\n",
      "Saint Lucia                 0\n",
      "Holy See                    0\n",
      "Sao Tome and Principe       0\n",
      "Yemen                       0\n",
      "Western Sahara              0\n",
      "Name: Deaths, dtype: int64\n"
     ]
    }
   ],
   "source": [
    "print(covid_19.groupby('Region').Deaths.sum().sort_values(ascending=True).head(20))"
   ]
  },
  {
   "cell_type": "markdown",
   "id": "d7ce9247",
   "metadata": {},
   "source": [
    "### Q4. How many confirmed, death and cases were reported in Indonesia till April 29, 2020?"
   ]
  },
  {
   "cell_type": "code",
   "execution_count": 239,
   "id": "2c6b648f",
   "metadata": {},
   "outputs": [
    {
     "data": {
      "text/html": [
       "<div>\n",
       "<style scoped>\n",
       "    .dataframe tbody tr th:only-of-type {\n",
       "        vertical-align: middle;\n",
       "    }\n",
       "\n",
       "    .dataframe tbody tr th {\n",
       "        vertical-align: top;\n",
       "    }\n",
       "\n",
       "    .dataframe thead th {\n",
       "        text-align: right;\n",
       "    }\n",
       "</style>\n",
       "<table border=\"1\" class=\"dataframe\">\n",
       "  <thead>\n",
       "    <tr style=\"text-align: right;\">\n",
       "      <th></th>\n",
       "      <th>Date</th>\n",
       "      <th>State</th>\n",
       "      <th>Region</th>\n",
       "      <th>Confirmed</th>\n",
       "      <th>Deaths</th>\n",
       "      <th>Recovered</th>\n",
       "    </tr>\n",
       "  </thead>\n",
       "  <tbody>\n",
       "    <tr>\n",
       "      <th>75</th>\n",
       "      <td>4/29/2020</td>\n",
       "      <td>NaN</td>\n",
       "      <td>Indonesia</td>\n",
       "      <td>9771</td>\n",
       "      <td>784</td>\n",
       "      <td>1391</td>\n",
       "    </tr>\n",
       "  </tbody>\n",
       "</table>\n",
       "</div>"
      ],
      "text/plain": [
       "         Date State     Region  Confirmed  Deaths  Recovered\n",
       "75  4/29/2020   NaN  Indonesia       9771     784       1391"
      ]
     },
     "execution_count": 239,
     "metadata": {},
     "output_type": "execute_result"
    }
   ],
   "source": [
    "covid_19[covid_19.Region == 'Indonesia']"
   ]
  },
  {
   "cell_type": "markdown",
   "id": "8f056513",
   "metadata": {},
   "source": [
    "### Q5. To remove all the records where confirmed cases are less than 1000"
   ]
  },
  {
   "cell_type": "code",
   "execution_count": 240,
   "id": "6f5ee907",
   "metadata": {},
   "outputs": [
    {
     "data": {
      "text/html": [
       "<div>\n",
       "<style scoped>\n",
       "    .dataframe tbody tr th:only-of-type {\n",
       "        vertical-align: middle;\n",
       "    }\n",
       "\n",
       "    .dataframe tbody tr th {\n",
       "        vertical-align: top;\n",
       "    }\n",
       "\n",
       "    .dataframe thead th {\n",
       "        text-align: right;\n",
       "    }\n",
       "</style>\n",
       "<table border=\"1\" class=\"dataframe\">\n",
       "  <thead>\n",
       "    <tr style=\"text-align: right;\">\n",
       "      <th></th>\n",
       "      <th>Date</th>\n",
       "      <th>State</th>\n",
       "      <th>Region</th>\n",
       "      <th>Confirmed</th>\n",
       "      <th>Deaths</th>\n",
       "      <th>Recovered</th>\n",
       "    </tr>\n",
       "  </thead>\n",
       "  <tbody>\n",
       "    <tr>\n",
       "      <th>0</th>\n",
       "      <td>4/29/2020</td>\n",
       "      <td>NaN</td>\n",
       "      <td>Afghanistan</td>\n",
       "      <td>1939</td>\n",
       "      <td>60</td>\n",
       "      <td>252</td>\n",
       "    </tr>\n",
       "    <tr>\n",
       "      <th>1</th>\n",
       "      <td>4/29/2020</td>\n",
       "      <td>NaN</td>\n",
       "      <td>Albania</td>\n",
       "      <td>766</td>\n",
       "      <td>30</td>\n",
       "      <td>455</td>\n",
       "    </tr>\n",
       "    <tr>\n",
       "      <th>2</th>\n",
       "      <td>4/29/2020</td>\n",
       "      <td>NaN</td>\n",
       "      <td>Algeria</td>\n",
       "      <td>3848</td>\n",
       "      <td>444</td>\n",
       "      <td>1702</td>\n",
       "    </tr>\n",
       "    <tr>\n",
       "      <th>3</th>\n",
       "      <td>4/29/2020</td>\n",
       "      <td>NaN</td>\n",
       "      <td>Andorra</td>\n",
       "      <td>743</td>\n",
       "      <td>42</td>\n",
       "      <td>423</td>\n",
       "    </tr>\n",
       "    <tr>\n",
       "      <th>4</th>\n",
       "      <td>4/29/2020</td>\n",
       "      <td>NaN</td>\n",
       "      <td>Angola</td>\n",
       "      <td>27</td>\n",
       "      <td>2</td>\n",
       "      <td>7</td>\n",
       "    </tr>\n",
       "  </tbody>\n",
       "</table>\n",
       "</div>"
      ],
      "text/plain": [
       "        Date State       Region  Confirmed  Deaths  Recovered\n",
       "0  4/29/2020   NaN  Afghanistan       1939      60        252\n",
       "1  4/29/2020   NaN      Albania        766      30        455\n",
       "2  4/29/2020   NaN      Algeria       3848     444       1702\n",
       "3  4/29/2020   NaN      Andorra        743      42        423\n",
       "4  4/29/2020   NaN       Angola         27       2          7"
      ]
     },
     "execution_count": 240,
     "metadata": {},
     "output_type": "execute_result"
    }
   ],
   "source": [
    "covid_19.head(5)"
   ]
  },
  {
   "cell_type": "code",
   "execution_count": 241,
   "id": "f1af278b",
   "metadata": {},
   "outputs": [
    {
     "data": {
      "text/plain": [
       "0      False\n",
       "1       True\n",
       "2      False\n",
       "3       True\n",
       "4       True\n",
       "       ...  \n",
       "316     True\n",
       "317     True\n",
       "318     True\n",
       "319     True\n",
       "320    False\n",
       "Name: Confirmed, Length: 321, dtype: bool"
      ]
     },
     "execution_count": 241,
     "metadata": {},
     "output_type": "execute_result"
    }
   ],
   "source": [
    "# Displaying result in data frame. True is < 1000 and False is > 1000\n",
    "covid_19.Confirmed < 1000"
   ]
  },
  {
   "cell_type": "code",
   "execution_count": 242,
   "id": "65747968",
   "metadata": {},
   "outputs": [
    {
     "data": {
      "text/html": [
       "<div>\n",
       "<style scoped>\n",
       "    .dataframe tbody tr th:only-of-type {\n",
       "        vertical-align: middle;\n",
       "    }\n",
       "\n",
       "    .dataframe tbody tr th {\n",
       "        vertical-align: top;\n",
       "    }\n",
       "\n",
       "    .dataframe thead th {\n",
       "        text-align: right;\n",
       "    }\n",
       "</style>\n",
       "<table border=\"1\" class=\"dataframe\">\n",
       "  <thead>\n",
       "    <tr style=\"text-align: right;\">\n",
       "      <th></th>\n",
       "      <th>Date</th>\n",
       "      <th>State</th>\n",
       "      <th>Region</th>\n",
       "      <th>Confirmed</th>\n",
       "      <th>Deaths</th>\n",
       "      <th>Recovered</th>\n",
       "    </tr>\n",
       "  </thead>\n",
       "  <tbody>\n",
       "    <tr>\n",
       "      <th>1</th>\n",
       "      <td>4/29/2020</td>\n",
       "      <td>NaN</td>\n",
       "      <td>Albania</td>\n",
       "      <td>766</td>\n",
       "      <td>30</td>\n",
       "      <td>455</td>\n",
       "    </tr>\n",
       "    <tr>\n",
       "      <th>3</th>\n",
       "      <td>4/29/2020</td>\n",
       "      <td>NaN</td>\n",
       "      <td>Andorra</td>\n",
       "      <td>743</td>\n",
       "      <td>42</td>\n",
       "      <td>423</td>\n",
       "    </tr>\n",
       "    <tr>\n",
       "      <th>4</th>\n",
       "      <td>4/29/2020</td>\n",
       "      <td>NaN</td>\n",
       "      <td>Angola</td>\n",
       "      <td>27</td>\n",
       "      <td>2</td>\n",
       "      <td>7</td>\n",
       "    </tr>\n",
       "    <tr>\n",
       "      <th>5</th>\n",
       "      <td>4/29/2020</td>\n",
       "      <td>NaN</td>\n",
       "      <td>Antigua and Barbuda</td>\n",
       "      <td>24</td>\n",
       "      <td>3</td>\n",
       "      <td>11</td>\n",
       "    </tr>\n",
       "    <tr>\n",
       "      <th>10</th>\n",
       "      <td>4/29/2020</td>\n",
       "      <td>NaN</td>\n",
       "      <td>Bahamas</td>\n",
       "      <td>80</td>\n",
       "      <td>11</td>\n",
       "      <td>23</td>\n",
       "    </tr>\n",
       "    <tr>\n",
       "      <th>...</th>\n",
       "      <td>...</td>\n",
       "      <td>...</td>\n",
       "      <td>...</td>\n",
       "      <td>...</td>\n",
       "      <td>...</td>\n",
       "      <td>...</td>\n",
       "    </tr>\n",
       "    <tr>\n",
       "      <th>314</th>\n",
       "      <td>4/29/2020</td>\n",
       "      <td>Western Australia</td>\n",
       "      <td>Australia</td>\n",
       "      <td>551</td>\n",
       "      <td>8</td>\n",
       "      <td>507</td>\n",
       "    </tr>\n",
       "    <tr>\n",
       "      <th>316</th>\n",
       "      <td>4/29/2020</td>\n",
       "      <td>Wyoming</td>\n",
       "      <td>US</td>\n",
       "      <td>545</td>\n",
       "      <td>7</td>\n",
       "      <td>0</td>\n",
       "    </tr>\n",
       "    <tr>\n",
       "      <th>317</th>\n",
       "      <td>4/29/2020</td>\n",
       "      <td>Xinjiang</td>\n",
       "      <td>Mainland China</td>\n",
       "      <td>76</td>\n",
       "      <td>3</td>\n",
       "      <td>73</td>\n",
       "    </tr>\n",
       "    <tr>\n",
       "      <th>318</th>\n",
       "      <td>4/29/2020</td>\n",
       "      <td>Yukon</td>\n",
       "      <td>Canada</td>\n",
       "      <td>11</td>\n",
       "      <td>0</td>\n",
       "      <td>0</td>\n",
       "    </tr>\n",
       "    <tr>\n",
       "      <th>319</th>\n",
       "      <td>4/29/2020</td>\n",
       "      <td>Yunnan</td>\n",
       "      <td>Mainland China</td>\n",
       "      <td>185</td>\n",
       "      <td>2</td>\n",
       "      <td>181</td>\n",
       "    </tr>\n",
       "  </tbody>\n",
       "</table>\n",
       "<p>179 rows × 6 columns</p>\n",
       "</div>"
      ],
      "text/plain": [
       "          Date              State               Region  Confirmed  Deaths  \\\n",
       "1    4/29/2020                NaN              Albania        766      30   \n",
       "3    4/29/2020                NaN              Andorra        743      42   \n",
       "4    4/29/2020                NaN               Angola         27       2   \n",
       "5    4/29/2020                NaN  Antigua and Barbuda         24       3   \n",
       "10   4/29/2020                NaN              Bahamas         80      11   \n",
       "..         ...                ...                  ...        ...     ...   \n",
       "314  4/29/2020  Western Australia            Australia        551       8   \n",
       "316  4/29/2020            Wyoming                   US        545       7   \n",
       "317  4/29/2020           Xinjiang       Mainland China         76       3   \n",
       "318  4/29/2020              Yukon               Canada         11       0   \n",
       "319  4/29/2020             Yunnan       Mainland China        185       2   \n",
       "\n",
       "     Recovered  \n",
       "1          455  \n",
       "3          423  \n",
       "4            7  \n",
       "5           11  \n",
       "10          23  \n",
       "..         ...  \n",
       "314        507  \n",
       "316          0  \n",
       "317         73  \n",
       "318          0  \n",
       "319        181  \n",
       "\n",
       "[179 rows x 6 columns]"
      ]
     },
     "execution_count": 242,
     "metadata": {},
     "output_type": "execute_result"
    }
   ],
   "source": [
    "# Displaying result in data frame which 'Confirmed' is less than 1000\n",
    "covid_19[covid_19.Confirmed < 1000]"
   ]
  },
  {
   "cell_type": "code",
   "execution_count": 243,
   "id": "fdf0e85f",
   "metadata": {},
   "outputs": [
    {
     "data": {
      "text/html": [
       "<div>\n",
       "<style scoped>\n",
       "    .dataframe tbody tr th:only-of-type {\n",
       "        vertical-align: middle;\n",
       "    }\n",
       "\n",
       "    .dataframe tbody tr th {\n",
       "        vertical-align: top;\n",
       "    }\n",
       "\n",
       "    .dataframe thead th {\n",
       "        text-align: right;\n",
       "    }\n",
       "</style>\n",
       "<table border=\"1\" class=\"dataframe\">\n",
       "  <thead>\n",
       "    <tr style=\"text-align: right;\">\n",
       "      <th></th>\n",
       "      <th>Date</th>\n",
       "      <th>State</th>\n",
       "      <th>Region</th>\n",
       "      <th>Confirmed</th>\n",
       "      <th>Deaths</th>\n",
       "      <th>Recovered</th>\n",
       "    </tr>\n",
       "  </thead>\n",
       "  <tbody>\n",
       "    <tr>\n",
       "      <th>0</th>\n",
       "      <td>4/29/2020</td>\n",
       "      <td>NaN</td>\n",
       "      <td>Afghanistan</td>\n",
       "      <td>1939</td>\n",
       "      <td>60</td>\n",
       "      <td>252</td>\n",
       "    </tr>\n",
       "    <tr>\n",
       "      <th>1</th>\n",
       "      <td>4/29/2020</td>\n",
       "      <td>NaN</td>\n",
       "      <td>Albania</td>\n",
       "      <td>766</td>\n",
       "      <td>30</td>\n",
       "      <td>455</td>\n",
       "    </tr>\n",
       "    <tr>\n",
       "      <th>2</th>\n",
       "      <td>4/29/2020</td>\n",
       "      <td>NaN</td>\n",
       "      <td>Algeria</td>\n",
       "      <td>3848</td>\n",
       "      <td>444</td>\n",
       "      <td>1702</td>\n",
       "    </tr>\n",
       "    <tr>\n",
       "      <th>3</th>\n",
       "      <td>4/29/2020</td>\n",
       "      <td>NaN</td>\n",
       "      <td>Andorra</td>\n",
       "      <td>743</td>\n",
       "      <td>42</td>\n",
       "      <td>423</td>\n",
       "    </tr>\n",
       "    <tr>\n",
       "      <th>4</th>\n",
       "      <td>4/29/2020</td>\n",
       "      <td>NaN</td>\n",
       "      <td>Angola</td>\n",
       "      <td>27</td>\n",
       "      <td>2</td>\n",
       "      <td>7</td>\n",
       "    </tr>\n",
       "    <tr>\n",
       "      <th>...</th>\n",
       "      <td>...</td>\n",
       "      <td>...</td>\n",
       "      <td>...</td>\n",
       "      <td>...</td>\n",
       "      <td>...</td>\n",
       "      <td>...</td>\n",
       "    </tr>\n",
       "    <tr>\n",
       "      <th>316</th>\n",
       "      <td>4/29/2020</td>\n",
       "      <td>Wyoming</td>\n",
       "      <td>US</td>\n",
       "      <td>545</td>\n",
       "      <td>7</td>\n",
       "      <td>0</td>\n",
       "    </tr>\n",
       "    <tr>\n",
       "      <th>317</th>\n",
       "      <td>4/29/2020</td>\n",
       "      <td>Xinjiang</td>\n",
       "      <td>Mainland China</td>\n",
       "      <td>76</td>\n",
       "      <td>3</td>\n",
       "      <td>73</td>\n",
       "    </tr>\n",
       "    <tr>\n",
       "      <th>318</th>\n",
       "      <td>4/29/2020</td>\n",
       "      <td>Yukon</td>\n",
       "      <td>Canada</td>\n",
       "      <td>11</td>\n",
       "      <td>0</td>\n",
       "      <td>0</td>\n",
       "    </tr>\n",
       "    <tr>\n",
       "      <th>319</th>\n",
       "      <td>4/29/2020</td>\n",
       "      <td>Yunnan</td>\n",
       "      <td>Mainland China</td>\n",
       "      <td>185</td>\n",
       "      <td>2</td>\n",
       "      <td>181</td>\n",
       "    </tr>\n",
       "    <tr>\n",
       "      <th>320</th>\n",
       "      <td>4/29/2020</td>\n",
       "      <td>Zhejiang</td>\n",
       "      <td>Mainland China</td>\n",
       "      <td>1268</td>\n",
       "      <td>1</td>\n",
       "      <td>1263</td>\n",
       "    </tr>\n",
       "  </tbody>\n",
       "</table>\n",
       "<p>321 rows × 6 columns</p>\n",
       "</div>"
      ],
      "text/plain": [
       "          Date     State          Region  Confirmed  Deaths  Recovered\n",
       "0    4/29/2020       NaN     Afghanistan       1939      60        252\n",
       "1    4/29/2020       NaN         Albania        766      30        455\n",
       "2    4/29/2020       NaN         Algeria       3848     444       1702\n",
       "3    4/29/2020       NaN         Andorra        743      42        423\n",
       "4    4/29/2020       NaN          Angola         27       2          7\n",
       "..         ...       ...             ...        ...     ...        ...\n",
       "316  4/29/2020   Wyoming              US        545       7          0\n",
       "317  4/29/2020  Xinjiang  Mainland China         76       3         73\n",
       "318  4/29/2020     Yukon          Canada         11       0          0\n",
       "319  4/29/2020    Yunnan  Mainland China        185       2        181\n",
       "320  4/29/2020  Zhejiang  Mainland China       1268       1       1263\n",
       "\n",
       "[321 rows x 6 columns]"
      ]
     },
     "execution_count": 243,
     "metadata": {},
     "output_type": "execute_result"
    }
   ],
   "source": [
    "# Removing dataset which 'Confirmed' is less than 10\n",
    "covid_19[~(covid_19.Confirmed) < 1000]"
   ]
  },
  {
   "cell_type": "code",
   "execution_count": 244,
   "id": "b3434195",
   "metadata": {},
   "outputs": [
    {
     "data": {
      "text/html": [
       "<div>\n",
       "<style scoped>\n",
       "    .dataframe tbody tr th:only-of-type {\n",
       "        vertical-align: middle;\n",
       "    }\n",
       "\n",
       "    .dataframe tbody tr th {\n",
       "        vertical-align: top;\n",
       "    }\n",
       "\n",
       "    .dataframe thead th {\n",
       "        text-align: right;\n",
       "    }\n",
       "</style>\n",
       "<table border=\"1\" class=\"dataframe\">\n",
       "  <thead>\n",
       "    <tr style=\"text-align: right;\">\n",
       "      <th></th>\n",
       "      <th>Date</th>\n",
       "      <th>State</th>\n",
       "      <th>Region</th>\n",
       "      <th>Confirmed</th>\n",
       "      <th>Deaths</th>\n",
       "      <th>Recovered</th>\n",
       "    </tr>\n",
       "  </thead>\n",
       "  <tbody>\n",
       "    <tr>\n",
       "      <th>0</th>\n",
       "      <td>4/29/2020</td>\n",
       "      <td>NaN</td>\n",
       "      <td>Afghanistan</td>\n",
       "      <td>1939</td>\n",
       "      <td>60</td>\n",
       "      <td>252</td>\n",
       "    </tr>\n",
       "    <tr>\n",
       "      <th>1</th>\n",
       "      <td>4/29/2020</td>\n",
       "      <td>NaN</td>\n",
       "      <td>Albania</td>\n",
       "      <td>766</td>\n",
       "      <td>30</td>\n",
       "      <td>455</td>\n",
       "    </tr>\n",
       "    <tr>\n",
       "      <th>2</th>\n",
       "      <td>4/29/2020</td>\n",
       "      <td>NaN</td>\n",
       "      <td>Algeria</td>\n",
       "      <td>3848</td>\n",
       "      <td>444</td>\n",
       "      <td>1702</td>\n",
       "    </tr>\n",
       "    <tr>\n",
       "      <th>3</th>\n",
       "      <td>4/29/2020</td>\n",
       "      <td>NaN</td>\n",
       "      <td>Andorra</td>\n",
       "      <td>743</td>\n",
       "      <td>42</td>\n",
       "      <td>423</td>\n",
       "    </tr>\n",
       "    <tr>\n",
       "      <th>4</th>\n",
       "      <td>4/29/2020</td>\n",
       "      <td>NaN</td>\n",
       "      <td>Angola</td>\n",
       "      <td>27</td>\n",
       "      <td>2</td>\n",
       "      <td>7</td>\n",
       "    </tr>\n",
       "    <tr>\n",
       "      <th>5</th>\n",
       "      <td>4/29/2020</td>\n",
       "      <td>NaN</td>\n",
       "      <td>Antigua and Barbuda</td>\n",
       "      <td>24</td>\n",
       "      <td>3</td>\n",
       "      <td>11</td>\n",
       "    </tr>\n",
       "    <tr>\n",
       "      <th>6</th>\n",
       "      <td>4/29/2020</td>\n",
       "      <td>NaN</td>\n",
       "      <td>Argentina</td>\n",
       "      <td>4285</td>\n",
       "      <td>214</td>\n",
       "      <td>1192</td>\n",
       "    </tr>\n",
       "    <tr>\n",
       "      <th>7</th>\n",
       "      <td>4/29/2020</td>\n",
       "      <td>NaN</td>\n",
       "      <td>Armenia</td>\n",
       "      <td>1932</td>\n",
       "      <td>30</td>\n",
       "      <td>900</td>\n",
       "    </tr>\n",
       "    <tr>\n",
       "      <th>8</th>\n",
       "      <td>4/29/2020</td>\n",
       "      <td>NaN</td>\n",
       "      <td>Austria</td>\n",
       "      <td>15402</td>\n",
       "      <td>580</td>\n",
       "      <td>12779</td>\n",
       "    </tr>\n",
       "    <tr>\n",
       "      <th>9</th>\n",
       "      <td>4/29/2020</td>\n",
       "      <td>NaN</td>\n",
       "      <td>Azerbaijan</td>\n",
       "      <td>1766</td>\n",
       "      <td>23</td>\n",
       "      <td>1267</td>\n",
       "    </tr>\n",
       "  </tbody>\n",
       "</table>\n",
       "</div>"
      ],
      "text/plain": [
       "        Date State               Region  Confirmed  Deaths  Recovered\n",
       "0  4/29/2020   NaN          Afghanistan       1939      60        252\n",
       "1  4/29/2020   NaN              Albania        766      30        455\n",
       "2  4/29/2020   NaN              Algeria       3848     444       1702\n",
       "3  4/29/2020   NaN              Andorra        743      42        423\n",
       "4  4/29/2020   NaN               Angola         27       2          7\n",
       "5  4/29/2020   NaN  Antigua and Barbuda         24       3         11\n",
       "6  4/29/2020   NaN            Argentina       4285     214       1192\n",
       "7  4/29/2020   NaN              Armenia       1932      30        900\n",
       "8  4/29/2020   NaN              Austria      15402     580      12779\n",
       "9  4/29/2020   NaN           Azerbaijan       1766      23       1267"
      ]
     },
     "execution_count": 244,
     "metadata": {},
     "output_type": "execute_result"
    }
   ],
   "source": [
    "# If checking dataset, but the value 'Confirmed' is still exist \n",
    "covid_19.head(10)"
   ]
  },
  {
   "cell_type": "code",
   "execution_count": 245,
   "id": "b04f418b",
   "metadata": {},
   "outputs": [],
   "source": [
    "# To remove dataset which 'Confirmed' is less than 1000 \"Permanently\"\n",
    "covid_19 = covid_19[covid_19['Confirmed'] >= 1000]"
   ]
  },
  {
   "cell_type": "code",
   "execution_count": 246,
   "id": "fdd97764",
   "metadata": {},
   "outputs": [
    {
     "data": {
      "text/html": [
       "<div>\n",
       "<style scoped>\n",
       "    .dataframe tbody tr th:only-of-type {\n",
       "        vertical-align: middle;\n",
       "    }\n",
       "\n",
       "    .dataframe tbody tr th {\n",
       "        vertical-align: top;\n",
       "    }\n",
       "\n",
       "    .dataframe thead th {\n",
       "        text-align: right;\n",
       "    }\n",
       "</style>\n",
       "<table border=\"1\" class=\"dataframe\">\n",
       "  <thead>\n",
       "    <tr style=\"text-align: right;\">\n",
       "      <th></th>\n",
       "      <th>Date</th>\n",
       "      <th>State</th>\n",
       "      <th>Region</th>\n",
       "      <th>Confirmed</th>\n",
       "      <th>Deaths</th>\n",
       "      <th>Recovered</th>\n",
       "    </tr>\n",
       "  </thead>\n",
       "  <tbody>\n",
       "    <tr>\n",
       "      <th>0</th>\n",
       "      <td>4/29/2020</td>\n",
       "      <td>NaN</td>\n",
       "      <td>Afghanistan</td>\n",
       "      <td>1939</td>\n",
       "      <td>60</td>\n",
       "      <td>252</td>\n",
       "    </tr>\n",
       "    <tr>\n",
       "      <th>2</th>\n",
       "      <td>4/29/2020</td>\n",
       "      <td>NaN</td>\n",
       "      <td>Algeria</td>\n",
       "      <td>3848</td>\n",
       "      <td>444</td>\n",
       "      <td>1702</td>\n",
       "    </tr>\n",
       "    <tr>\n",
       "      <th>6</th>\n",
       "      <td>4/29/2020</td>\n",
       "      <td>NaN</td>\n",
       "      <td>Argentina</td>\n",
       "      <td>4285</td>\n",
       "      <td>214</td>\n",
       "      <td>1192</td>\n",
       "    </tr>\n",
       "    <tr>\n",
       "      <th>7</th>\n",
       "      <td>4/29/2020</td>\n",
       "      <td>NaN</td>\n",
       "      <td>Armenia</td>\n",
       "      <td>1932</td>\n",
       "      <td>30</td>\n",
       "      <td>900</td>\n",
       "    </tr>\n",
       "    <tr>\n",
       "      <th>8</th>\n",
       "      <td>4/29/2020</td>\n",
       "      <td>NaN</td>\n",
       "      <td>Austria</td>\n",
       "      <td>15402</td>\n",
       "      <td>580</td>\n",
       "      <td>12779</td>\n",
       "    </tr>\n",
       "    <tr>\n",
       "      <th>9</th>\n",
       "      <td>4/29/2020</td>\n",
       "      <td>NaN</td>\n",
       "      <td>Azerbaijan</td>\n",
       "      <td>1766</td>\n",
       "      <td>23</td>\n",
       "      <td>1267</td>\n",
       "    </tr>\n",
       "    <tr>\n",
       "      <th>11</th>\n",
       "      <td>4/29/2020</td>\n",
       "      <td>NaN</td>\n",
       "      <td>Bahrain</td>\n",
       "      <td>2921</td>\n",
       "      <td>8</td>\n",
       "      <td>1455</td>\n",
       "    </tr>\n",
       "    <tr>\n",
       "      <th>12</th>\n",
       "      <td>4/29/2020</td>\n",
       "      <td>NaN</td>\n",
       "      <td>Bangladesh</td>\n",
       "      <td>7103</td>\n",
       "      <td>163</td>\n",
       "      <td>150</td>\n",
       "    </tr>\n",
       "    <tr>\n",
       "      <th>14</th>\n",
       "      <td>4/29/2020</td>\n",
       "      <td>NaN</td>\n",
       "      <td>Belarus</td>\n",
       "      <td>13181</td>\n",
       "      <td>84</td>\n",
       "      <td>2072</td>\n",
       "    </tr>\n",
       "    <tr>\n",
       "      <th>15</th>\n",
       "      <td>4/29/2020</td>\n",
       "      <td>NaN</td>\n",
       "      <td>Belgium</td>\n",
       "      <td>47859</td>\n",
       "      <td>7501</td>\n",
       "      <td>11283</td>\n",
       "    </tr>\n",
       "  </tbody>\n",
       "</table>\n",
       "</div>"
      ],
      "text/plain": [
       "         Date State       Region  Confirmed  Deaths  Recovered\n",
       "0   4/29/2020   NaN  Afghanistan       1939      60        252\n",
       "2   4/29/2020   NaN      Algeria       3848     444       1702\n",
       "6   4/29/2020   NaN    Argentina       4285     214       1192\n",
       "7   4/29/2020   NaN      Armenia       1932      30        900\n",
       "8   4/29/2020   NaN      Austria      15402     580      12779\n",
       "9   4/29/2020   NaN   Azerbaijan       1766      23       1267\n",
       "11  4/29/2020   NaN      Bahrain       2921       8       1455\n",
       "12  4/29/2020   NaN   Bangladesh       7103     163        150\n",
       "14  4/29/2020   NaN      Belarus      13181      84       2072\n",
       "15  4/29/2020   NaN      Belgium      47859    7501      11283"
      ]
     },
     "execution_count": 246,
     "metadata": {},
     "output_type": "execute_result"
    }
   ],
   "source": [
    "# Checking dataset one more time\n",
    "covid_19.head(10)"
   ]
  }
 ],
 "metadata": {
  "kernelspec": {
   "display_name": "Python 3 (ipykernel)",
   "language": "python",
   "name": "python3"
  },
  "language_info": {
   "codemirror_mode": {
    "name": "ipython",
    "version": 3
   },
   "file_extension": ".py",
   "mimetype": "text/x-python",
   "name": "python",
   "nbconvert_exporter": "python",
   "pygments_lexer": "ipython3",
   "version": "3.11.8"
  }
 },
 "nbformat": 4,
 "nbformat_minor": 5
}
